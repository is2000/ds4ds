{
 "cells": [
  {
   "cell_type": "markdown",
   "id": "e58719b9-bc5b-4c3e-a74c-1e84d5c7a8ea",
   "metadata": {
    "deletable": false,
    "editable": false,
    "nbgrader": {
     "cell_type": "markdown",
     "checksum": "dd6f3945232addb8432374e6e8552b4f",
     "grade": false,
     "grade_id": "cell-f9b2220de66e6ce4",
     "locked": true,
     "schema_version": 3,
     "solution": false,
     "task": false
    },
    "tags": []
   },
   "source": [
    "# DS4DS Homework Exercise Sheet 01"
   ]
  },
  {
   "cell_type": "markdown",
   "id": "05ca62ce-d565-4c09-9059-850aa62f50be",
   "metadata": {
    "deletable": false,
    "editable": false,
    "nbgrader": {
     "cell_type": "markdown",
     "checksum": "812331d47fa19b7da22083faa258f43a",
     "grade": false,
     "grade_id": "cell-558421c03828b5a2",
     "locked": true,
     "schema_version": 3,
     "solution": false,
     "task": false
    },
    "tags": []
   },
   "source": [
    "We have the two matrices $A$, $B$:\n",
    "\n",
    "$\n",
    "A = \\begin{bmatrix} 0 & 0 \\\\ 2 & 0 \\end{bmatrix}, \\\\\n",
    "B = \\begin{bmatrix} 0 & -1 \\\\ 4 & 0 \\end{bmatrix}\n",
    "$"
   ]
  },
  {
   "cell_type": "code",
   "execution_count": null,
   "id": "0165ed19-e22d-47dc-b21b-684519be6c4b",
   "metadata": {
    "ExecuteTime": {
     "end_time": "2024-10-15T17:48:24.689000+02:00",
     "start_time": "2024-10-15T15:48:20.795Z"
    },
    "deletable": false,
    "editable": false,
    "nbgrader": {
     "cell_type": "code",
     "checksum": "b065bb187704fda9d74ae301d9a2517a",
     "grade": false,
     "grade_id": "cell-e292bc3390edaff2",
     "locked": true,
     "schema_version": 3,
     "solution": false,
     "task": false
    },
    "tags": []
   },
   "outputs": [],
   "source": [
    "A = [0 0; 2 0]\n",
    "\n",
    "B = [0 -1; 4 0]"
   ]
  },
  {
   "cell_type": "markdown",
   "id": "aa8d4849-77a9-407f-aafc-09a24e345c6f",
   "metadata": {
    "deletable": false,
    "editable": false,
    "nbgrader": {
     "cell_type": "markdown",
     "checksum": "7c39d1b0ded2f715b23fd987fc828c82",
     "grade": false,
     "grade_id": "cell-0d7137feed1cdd0b",
     "locked": true,
     "schema_version": 3,
     "solution": false,
     "task": false
    },
    "tags": []
   },
   "source": [
    "### Task 1: Calculate the eigenvalues of the matrices $A$,$B$ and assign them to *eig_A* and *eig_B* - (1 point)\n",
    "**Hint:** You should calculate them by hand and insert them here. Alternatively, you may solve this in Julia, but without the use of any extra packages."
   ]
  },
  {
   "cell_type": "code",
   "execution_count": null,
   "id": "7e63d454-f206-4971-bf20-537bb95c4b16",
   "metadata": {
    "ExecuteTime": {
     "end_time": "2024-10-15T17:48:25.367000+02:00",
     "start_time": "2024-10-15T15:48:21.120Z"
    },
    "deletable": false,
    "nbgrader": {
     "cell_type": "code",
     "checksum": "aebd9bf630f8738087d91485e86a32cb",
     "grade": false,
     "grade_id": "cell-a42b9d1c810ef1f9",
     "locked": false,
     "schema_version": 3,
     "solution": true,
     "task": false
    },
    "tags": []
   },
   "outputs": [],
   "source": [
    "eig_A = 0\n",
    "eig_B = 0\n",
    "\n",
    "#--- YOUR CODE STARTS HERE ---#\n",
    "\n",
    "#--- YOUR CODE ENDS HERE ---#"
   ]
  },
  {
   "cell_type": "code",
   "execution_count": null,
   "id": "135bddf9-01a6-43cb-ac2b-92b1efbe16d8",
   "metadata": {
    "ExecuteTime": {
     "end_time": "2024-10-15T17:48:26.330000+02:00",
     "start_time": "2024-10-15T15:48:22.073Z"
    },
    "deletable": false,
    "editable": false,
    "nbgrader": {
     "cell_type": "code",
     "checksum": "a88e766488211485562ab4d48a1a6384",
     "grade": true,
     "grade_id": "cell-75f64657aa33a44d",
     "locked": true,
     "points": 0.5,
     "schema_version": 3,
     "solution": false,
     "task": false
    },
    "tags": []
   },
   "outputs": [],
   "source": [
    "@assert isa(eig_A,Array)\n",
    "@assert isa(eig_A,Vector)\n",
    "@assert !isa(eig_A,Matrix)\n",
    "@assert length(eig_A) == 2\n"
   ]
  },
  {
   "cell_type": "code",
   "execution_count": null,
   "id": "e496f8ea-4f9c-4fe5-8367-3ea65addb5b7",
   "metadata": {
    "ExecuteTime": {
     "end_time": "2024-10-15T17:48:27.092000+02:00",
     "start_time": "2024-10-15T15:48:22.696Z"
    },
    "deletable": false,
    "editable": false,
    "nbgrader": {
     "cell_type": "code",
     "checksum": "5d47bcb09a2f1a0cf9830d1c25c6aaba",
     "grade": true,
     "grade_id": "cell-a100be41157a8b07",
     "locked": true,
     "points": 0.5,
     "schema_version": 3,
     "solution": false,
     "task": false
    },
    "tags": []
   },
   "outputs": [],
   "source": [
    "@assert isa(eig_B,Array)\n",
    "@assert isa(eig_B,Vector)\n",
    "@assert !isa(eig_B,Matrix)\n",
    "@assert length(eig_B) == 2\n"
   ]
  },
  {
   "cell_type": "markdown",
   "id": "e878eed6-1f57-432b-b65e-f1933215d1aa",
   "metadata": {
    "deletable": false,
    "editable": false,
    "nbgrader": {
     "cell_type": "markdown",
     "checksum": "57d11eadd74750b2c16011b176769ba6",
     "grade": false,
     "grade_id": "cell-98b78bd3ee47d6be",
     "locked": true,
     "schema_version": 3,
     "solution": false,
     "task": false
    },
    "tags": []
   },
   "source": [
    "### Task 2: Calculate the matrix exponential function of matrix A and B (by hand) [ exp(A\\*t) and exp(B\\*t) ] - (3 points)\n",
    "\n",
    "**Hint 1:** You should calculate them by hand and insert them here. Alternatively, you may solve this in Julia, but without the use of any extra packages.\n",
    "\n",
    "**Hint 2:** The function should at the end return a 2x2 matrix \n",
    "\n",
    "**Important: The use of exp() function will result in 0 points**"
   ]
  },
  {
   "cell_type": "code",
   "execution_count": null,
   "id": "1668d143-6ebf-4a50-a71d-72996d28a03a",
   "metadata": {
    "ExecuteTime": {
     "end_time": "2024-10-15T17:48:27.368000+02:00",
     "start_time": "2024-10-15T15:48:23.361Z"
    },
    "deletable": false,
    "editable": false,
    "nbgrader": {
     "cell_type": "code",
     "checksum": "c6cb9ff7f0700dac17428ac24b974066",
     "grade": false,
     "grade_id": "cell-0eebf1043f225ac7",
     "locked": true,
     "schema_version": 3,
     "solution": false,
     "task": false
    },
    "tags": []
   },
   "outputs": [],
   "source": [
    "#Here is an example how the functions should look like\n",
    "function example(t)\n",
    "    return [1*t 2; 3 4*t]\n",
    "end"
   ]
  },
  {
   "cell_type": "code",
   "execution_count": null,
   "id": "c1afebd3-4179-44df-b22e-8286d609f1a0",
   "metadata": {
    "ExecuteTime": {
     "end_time": "2024-10-15T17:48:27.386000+02:00",
     "start_time": "2024-10-15T15:48:23.909Z"
    },
    "deletable": false,
    "nbgrader": {
     "cell_type": "code",
     "checksum": "53e5d7a7dfaf7c3df1873ca5cd999eaf",
     "grade": false,
     "grade_id": "cell-86de8e669e0bc430",
     "locked": false,
     "schema_version": 3,
     "solution": true,
     "task": false
    },
    "tags": []
   },
   "outputs": [],
   "source": [
    "function matrixExponentA(t)\n",
    "    return nothing\n",
    "end\n",
    "\n",
    "function matrixExponentB(t)\n",
    "    return nothing\n",
    "end\n",
    "\n",
    "#--- YOUR CODE STARTS HERE ---#\n",
    "\n",
    "#--- YOUR CODE ENDS HERE ---#"
   ]
  },
  {
   "cell_type": "code",
   "execution_count": null,
   "id": "970ad637-1e45-4219-b940-b7160554a4d0",
   "metadata": {
    "ExecuteTime": {
     "end_time": "2024-10-15T17:48:35.668000+02:00",
     "start_time": "2024-10-15T15:48:26.156Z"
    },
    "deletable": false,
    "editable": false,
    "nbgrader": {
     "cell_type": "code",
     "checksum": "5330df11da0ab396fa87f4420deddd0d",
     "grade": true,
     "grade_id": "cell-1b2cc81a9c556ff4",
     "locked": true,
     "points": 1.5,
     "schema_version": 3,
     "solution": false,
     "task": false
    },
    "tags": []
   },
   "outputs": [],
   "source": [
    "@assert isa(matrixExponentA,Function)\n",
    "@assert size(matrixExponentA(0)) == (2,2)\n"
   ]
  },
  {
   "cell_type": "code",
   "execution_count": null,
   "id": "66870802-10f1-4000-9401-8324c4b9d833",
   "metadata": {
    "ExecuteTime": {
     "end_time": "2024-10-15T17:48:38.152000+02:00",
     "start_time": "2024-10-15T15:48:36.825Z"
    },
    "deletable": false,
    "editable": false,
    "nbgrader": {
     "cell_type": "code",
     "checksum": "0c891254d2855f58719582be357be00b",
     "grade": true,
     "grade_id": "cell-144af36570832246",
     "locked": true,
     "points": 1.5,
     "schema_version": 3,
     "solution": false,
     "task": false
    },
    "tags": []
   },
   "outputs": [],
   "source": [
    "@assert isa(matrixExponentB,Function)\n",
    "@assert size(matrixExponentB(0)) == (2,2)\n"
   ]
  },
  {
   "cell_type": "code",
   "execution_count": null,
   "id": "19023a05",
   "metadata": {
    "ExecuteTime": {
     "end_time": "2024-10-15T17:48:38.392000+02:00",
     "start_time": "2024-10-15T15:48:37.365Z"
    },
    "deletable": false,
    "editable": false,
    "nbgrader": {
     "cell_type": "code",
     "checksum": "d5df31fefbc5d9bba45682e015a2e6bd",
     "grade": true,
     "grade_id": "cell-9908aec96171e3a5",
     "locked": true,
     "points": 0,
     "schema_version": 3,
     "solution": false,
     "task": false
    }
   },
   "outputs": [],
   "source": [
    "# please leave this cell as it is\n"
   ]
  },
  {
   "cell_type": "markdown",
   "id": "87765d3e-3a09-4c52-b44e-abe245cd137d",
   "metadata": {
    "deletable": false,
    "editable": false,
    "nbgrader": {
     "cell_type": "markdown",
     "checksum": "4e615094b6aa454da76eedbaeb7d8024",
     "grade": false,
     "grade_id": "cell-8c48b4ba6d918ca9",
     "locked": true,
     "schema_version": 3,
     "solution": false,
     "task": false
    },
    "tags": []
   },
   "source": [
    "### Task 3: Calculate the system reactions $x(t)$ for a general $t$ and $x_0$ - (2 points)"
   ]
  },
  {
   "cell_type": "code",
   "execution_count": null,
   "id": "af206f35-e387-4ee5-aea6-771692a3604b",
   "metadata": {
    "ExecuteTime": {
     "end_time": "2024-10-15T17:48:41.585000+02:00",
     "start_time": "2024-10-15T15:48:41.211Z"
    },
    "deletable": false,
    "editable": false,
    "nbgrader": {
     "cell_type": "code",
     "checksum": "ced2fb8bd9dedd2cd2e55e1956a056cd",
     "grade": false,
     "grade_id": "cell-7159c6b62e213f91",
     "locked": true,
     "schema_version": 3,
     "solution": false,
     "task": false
    },
    "tags": []
   },
   "outputs": [],
   "source": [
    "x0 = [1; 1]\n",
    "\n",
    "#Here is an example how the functions should look like. The function should at the end return a 2x1 vector\n",
    "function example(t, x0)\n",
    "    return [1 ; 2]\n",
    "end"
   ]
  },
  {
   "cell_type": "code",
   "execution_count": null,
   "id": "b9cbce15-2805-4ad7-b709-83e31baa5496",
   "metadata": {
    "ExecuteTime": {
     "end_time": "2024-10-15T17:48:41.750000+02:00",
     "start_time": "2024-10-15T15:48:41.375Z"
    },
    "deletable": false,
    "nbgrader": {
     "cell_type": "code",
     "checksum": "a4ed600237bdbd6346858fd53b2a037e",
     "grade": false,
     "grade_id": "cell-cb80f70d0d95495c",
     "locked": false,
     "schema_version": 3,
     "solution": true,
     "task": false
    },
    "tags": []
   },
   "outputs": [],
   "source": [
    "function state_response_A(t, x0)\n",
    "    return nothing\n",
    "end\n",
    "\n",
    "function state_response_B(t, x0)\n",
    "    return nothing\n",
    "end\n",
    "\n",
    "#--- YOUR CODE STARTS HERE ---#\n",
    "\n",
    "#--- YOUR CODE ENDS HERE ---#"
   ]
  },
  {
   "cell_type": "code",
   "execution_count": null,
   "id": "4b64eff9-5fed-45bb-8032-7cd2daf84ded",
   "metadata": {
    "ExecuteTime": {
     "end_time": "2024-10-15T17:48:44.868000+02:00",
     "start_time": "2024-10-15T15:48:43.958Z"
    },
    "deletable": false,
    "editable": false,
    "nbgrader": {
     "cell_type": "code",
     "checksum": "167f54a220d30cfba9c2a6da39e0ff9a",
     "grade": true,
     "grade_id": "cell-37d579c2696587c5",
     "locked": true,
     "points": 1,
     "schema_version": 3,
     "solution": false,
     "task": false
    },
    "tags": []
   },
   "outputs": [],
   "source": [
    "@assert isa(state_response_A,Function)\n",
    "@assert size(state_response_A(0, [0; 0])) == (2,)\n"
   ]
  },
  {
   "cell_type": "code",
   "execution_count": null,
   "id": "4c870189-a53d-4bab-9685-7dbefe7b1510",
   "metadata": {
    "ExecuteTime": {
     "end_time": "2024-10-15T17:48:47.355000+02:00",
     "start_time": "2024-10-15T15:48:46.821Z"
    },
    "deletable": false,
    "editable": false,
    "nbgrader": {
     "cell_type": "code",
     "checksum": "7474b953cf9171b1d9cc3bbcc9d53bc9",
     "grade": true,
     "grade_id": "cell-915b2d57087b0936",
     "locked": true,
     "points": 1,
     "schema_version": 3,
     "solution": false,
     "task": false
    },
    "tags": []
   },
   "outputs": [],
   "source": [
    "@assert isa(state_response_B,Function)\n",
    "@assert size(state_response_B(0, [0; 0])) == (2,)\n"
   ]
  },
  {
   "cell_type": "markdown",
   "id": "f1cb155e-d008-4896-8821-1e4acb13d09e",
   "metadata": {
    "deletable": false,
    "editable": false,
    "nbgrader": {
     "cell_type": "markdown",
     "checksum": "fe9e3b7bd5e87a11a1170e5d02f7a4e6",
     "grade": false,
     "grade_id": "cell-9aa12e3cdea0791e",
     "locked": true,
     "schema_version": 3,
     "solution": false,
     "task": false
    },
    "tags": []
   },
   "source": [
    "### Task 4: Plot the resulting time series with plots.jl for a given time interval into a common plot - (3 points)\n",
    "\n",
    "Note: Take care of proper formatting of the plot. In particular, add correct axis labeling and a legend to be able to differentiate the time series."
   ]
  },
  {
   "cell_type": "code",
   "execution_count": null,
   "id": "e448ba38",
   "metadata": {
    "ExecuteTime": {
     "end_time": "2024-10-15T17:48:49.944000+02:00",
     "start_time": "2024-10-15T15:48:47.399Z"
    },
    "deletable": false,
    "editable": false,
    "nbgrader": {
     "cell_type": "code",
     "checksum": "74edfd78c3fbaa98a47950deffb6cc0f",
     "grade": false,
     "grade_id": "cell-9513609a5a86c74b",
     "locked": true,
     "schema_version": 3,
     "solution": false,
     "task": false
    }
   },
   "outputs": [],
   "source": [
    "using Plots"
   ]
  },
  {
   "cell_type": "code",
   "execution_count": null,
   "id": "4eebe8fc-b696-43e1-a116-a7f5c8c1c008",
   "metadata": {
    "ExecuteTime": {
     "end_time": "2024-10-15T17:48:50.186000+02:00",
     "start_time": "2024-10-15T15:48:47.909Z"
    },
    "deletable": false,
    "editable": false,
    "nbgrader": {
     "cell_type": "code",
     "checksum": "ffb005d8a8f353674e65cca5238e3e23",
     "grade": false,
     "grade_id": "cell-0f6e3119a36564e1",
     "locked": true,
     "schema_version": 3,
     "solution": false,
     "task": false
    },
    "tags": []
   },
   "outputs": [],
   "source": [
    "# time points\n",
    "t_values = 0:0.01:5\n",
    "N = size(t_values)[1]\n",
    "\n",
    "x0 = [1; 1]\n",
    "\n",
    "# fill with time series for matrix A and B respectively\n",
    "xt_A = zeros((N, 2));\n",
    "xt_B = zeros((N, 2));"
   ]
  },
  {
   "cell_type": "code",
   "execution_count": null,
   "id": "1134da76",
   "metadata": {
    "ExecuteTime": {
     "end_time": "2024-10-15T17:48:50.244000+02:00",
     "start_time": "2024-10-15T15:48:48.143Z"
    },
    "deletable": false,
    "nbgrader": {
     "cell_type": "code",
     "checksum": "0a2af7aeaf56a9d893db16c10be04f16",
     "grade": false,
     "grade_id": "cell-7059f3b5672fbebf",
     "locked": false,
     "points": 0,
     "schema_version": 3,
     "solution": true,
     "task": false
    }
   },
   "outputs": [],
   "source": [
    "#--- YOUR CODE STARTS HERE ---#\n",
    "\n",
    "#--- YOUR CODE ENDS HERE ---#"
   ]
  },
  {
   "cell_type": "code",
   "execution_count": null,
   "id": "7c3c37a8",
   "metadata": {
    "ExecuteTime": {
     "end_time": "2024-10-15T17:48:50.528000+02:00",
     "start_time": "2024-10-15T15:48:48.478Z"
    },
    "deletable": false,
    "editable": false,
    "nbgrader": {
     "cell_type": "code",
     "checksum": "1dcb951cc6cdbbde20edc41f7228522f",
     "grade": false,
     "grade_id": "cell-9d7f28e7ffa6dfaf",
     "locked": true,
     "schema_version": 3,
     "solution": false,
     "task": false
    }
   },
   "outputs": [],
   "source": [
    "@assert size(xt_A) == (501, 2)\n",
    "@assert size(xt_B) == (501, 2)\n",
    "\n",
    "@assert any(xt_A .!= 0)\n",
    "@assert any(xt_B .!= 0)"
   ]
  },
  {
   "cell_type": "code",
   "execution_count": null,
   "id": "540eec08-9bb1-4f91-91da-92888de2fc5d",
   "metadata": {
    "ExecuteTime": {
     "end_time": "2024-10-15T17:48:50.529000+02:00",
     "start_time": "2024-10-15T15:48:48.915Z"
    },
    "deletable": false,
    "nbgrader": {
     "cell_type": "code",
     "checksum": "a1c12d6c2cfca1e3d7d7766cfcb3c697",
     "grade": true,
     "grade_id": "cell-3cda36de24666aa7",
     "locked": false,
     "points": 1.5,
     "schema_version": 3,
     "solution": true,
     "task": false
    },
    "tags": []
   },
   "outputs": [],
   "source": [
    "#--- YOUR CODE STARTS HERE ---#\n",
    "\n",
    "#--- YOUR CODE ENDS HERE ---#"
   ]
  },
  {
   "cell_type": "code",
   "execution_count": null,
   "id": "b6c7cd9f",
   "metadata": {
    "ExecuteTime": {
     "end_time": "2024-10-15T17:48:51.816000+02:00",
     "start_time": "2024-10-15T15:48:51.458Z"
    },
    "deletable": false,
    "nbgrader": {
     "cell_type": "code",
     "checksum": "3de11be42dd889350ba46bd116053504",
     "grade": true,
     "grade_id": "cell-7dd6c12dee466781",
     "locked": false,
     "points": 1.5,
     "schema_version": 3,
     "solution": true,
     "task": false
    }
   },
   "outputs": [],
   "source": [
    "#--- YOUR CODE STARTS HERE ---#\n",
    "\n",
    "#--- YOUR CODE ENDS HERE ---#"
   ]
  },
  {
   "cell_type": "markdown",
   "id": "fa8c6657-f0aa-4e57-842d-ec4cfb49a660",
   "metadata": {
    "deletable": false,
    "editable": false,
    "nbgrader": {
     "cell_type": "markdown",
     "checksum": "aa616db9ae27172a88566290e21465cf",
     "grade": false,
     "grade_id": "cell-36eafe4024e9bacb",
     "locked": true,
     "schema_version": 3,
     "solution": false,
     "task": false
    },
    "tags": []
   },
   "source": [
    "### Task 5: In each case, make a statement whether the autonomous system described by the matrices is state-stable - (1 point)\n",
    "Therefore assign the corresponding value to the given variables.\n",
    "\n",
    "The system is:\\\n",
    "1: Stable\\\n",
    "2: asymptotically stable\\\n",
    "3: Unstable"
   ]
  },
  {
   "cell_type": "code",
   "execution_count": null,
   "id": "91bd6809-bd5d-4384-9e7c-340884ad057e",
   "metadata": {
    "ExecuteTime": {
     "end_time": "2024-10-15T17:48:57.797000+02:00",
     "start_time": "2024-10-15T15:48:56.977Z"
    },
    "deletable": false,
    "nbgrader": {
     "cell_type": "code",
     "checksum": "c7d529d90f730febfcb088c1b08796d3",
     "grade": false,
     "grade_id": "cell-a8807b7c513764fa",
     "locked": false,
     "schema_version": 3,
     "solution": true,
     "task": false
    },
    "tags": []
   },
   "outputs": [],
   "source": [
    "stability_of_A = 0\n",
    "stability_of_B = 0\n",
    "\n",
    "#--- YOUR CODE STARTS HERE ---#\n",
    "\n",
    "#--- YOUR CODE ENDS HERE ---#"
   ]
  },
  {
   "cell_type": "code",
   "execution_count": null,
   "id": "a263c3c8-1177-438f-8792-3bcd86dbc476",
   "metadata": {
    "ExecuteTime": {
     "end_time": "2024-10-15T17:48:57.800000+02:00",
     "start_time": "2024-10-15T15:48:57.130Z"
    },
    "deletable": false,
    "editable": false,
    "nbgrader": {
     "cell_type": "code",
     "checksum": "229e67f7f43592066bf000bb38fedc1c",
     "grade": true,
     "grade_id": "cell-b535e209a9bf3054",
     "locked": true,
     "points": 0.5,
     "schema_version": 3,
     "solution": false,
     "task": false
    },
    "tags": []
   },
   "outputs": [],
   "source": [
    "@assert isa(stability_of_A, Number)\n"
   ]
  },
  {
   "cell_type": "code",
   "execution_count": null,
   "id": "e03c8cf7-01cb-4a7d-8d4a-ad97426da40c",
   "metadata": {
    "ExecuteTime": {
     "end_time": "2024-10-15T17:48:57.882000+02:00",
     "start_time": "2024-10-15T15:48:57.525Z"
    },
    "deletable": false,
    "editable": false,
    "nbgrader": {
     "cell_type": "code",
     "checksum": "47f108a8d3bd14f83458fd511b216251",
     "grade": true,
     "grade_id": "cell-d23001987877a646",
     "locked": true,
     "points": 0.5,
     "schema_version": 3,
     "solution": false,
     "task": false
    },
    "tags": []
   },
   "outputs": [],
   "source": [
    "@assert isa(stability_of_B, Number)\n"
   ]
  }
 ],
 "metadata": {
  "kernelspec": {
   "display_name": "Julia 1.10.5",
   "language": "julia",
   "name": "julia-1.10"
  },
  "language_info": {
   "file_extension": ".jl",
   "mimetype": "application/julia",
   "name": "julia",
   "version": "1.10.5"
  }
 },
 "nbformat": 4,
 "nbformat_minor": 5
}
