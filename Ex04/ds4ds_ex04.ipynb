{
 "cells": [
  {
   "cell_type": "markdown",
   "id": "fe19c683-a77d-4414-8d24-58a8f69e098e",
   "metadata": {
    "deletable": false,
    "editable": false,
    "nbgrader": {
     "cell_type": "markdown",
     "checksum": "fdd4071f8be6711859fcfa1cb05d1a11",
     "grade": false,
     "grade_id": "cell-d5e6df18ab7316ee",
     "locked": true,
     "schema_version": 3,
     "solution": false,
     "task": false
    },
    "tags": []
   },
   "source": [
    "# DS4DS Homework Exercise Sheet 04"
   ]
  },
  {
   "cell_type": "markdown",
   "id": "15c1382e-7b89-4f89-93cd-b1c633ae1c63",
   "metadata": {
    "deletable": false,
    "editable": false,
    "nbgrader": {
     "cell_type": "markdown",
     "checksum": "3d72a453f43a74682839931adce1c386",
     "grade": false,
     "grade_id": "cell-789fff049843e433",
     "locked": true,
     "schema_version": 3,
     "solution": false,
     "task": false
    },
    "tags": []
   },
   "source": [
    "### Task 1: Least Squares Linear Approximation - (2 points)"
   ]
  },
  {
   "cell_type": "markdown",
   "id": "605ebda2-ab08-41ec-87cc-e47b9ffc069d",
   "metadata": {
    "deletable": false,
    "editable": false,
    "nbgrader": {
     "cell_type": "markdown",
     "checksum": "c5e3eccde88961b9d8818256dba4ae5c",
     "grade": false,
     "grade_id": "cell-85e5b8dd6a07349f",
     "locked": true,
     "schema_version": 3,
     "solution": false,
     "task": false
    },
    "tags": []
   },
   "source": [
    "The measurements shown in the figure below were gathered from an unknown process.\n",
    "\n",
    "<img src=\"measurements_updated.png\" alt=\"measurements\" width=\"400\"/>\n",
    "\n",
    "However, we can assume a linear relationship between the measurements $y$ and the inputs $u$ for the underlying process\n",
    "\n",
    "$$\n",
    "\\begin{align}\n",
    "    y[k] = w_0 + w_1 u[k]\n",
    "\\end{align}.\n",
    "$$\n",
    "\n",
    "Your task is to identify the parameter vector $$\\boldsymbol{w} = \\begin{bmatrix} w_0\\\\ w_1\\end{bmatrix} $$ using the least squares approach shown in the lecture.\n",
    "\n",
    "**Note:** You can solve this problem using either pen and paper or Julia. Place your calculated values for $w_0$ and $w_1$ into the variables below.\n",
    "\n",
    "**Tip:** Think about the role of the two parameters you have acquired. Do they make sense for the data? Is there a way to visualize your result?"
   ]
  },
  {
   "cell_type": "code",
   "execution_count": null,
   "id": "f4384dde-a77b-4613-943d-cf7ee1f344eb",
   "metadata": {
    "ExecuteTime": {
     "end_time": "2024-10-24T15:11:29.469000+02:00",
     "start_time": "2024-10-24T13:11:24.390Z"
    },
    "deletable": false,
    "nbgrader": {
     "cell_type": "code",
     "checksum": "80f3c3fa577ba3e2a919a7940264c968",
     "grade": false,
     "grade_id": "cell-2f711984831d75f9",
     "locked": false,
     "schema_version": 3,
     "solution": true,
     "task": false
    },
    "tags": []
   },
   "outputs": [],
   "source": [
    "w_0 = NaN\n",
    "w_1 = NaN\n",
    "\n",
    "#--- YOUR CODE STARTS HERE ---#\n",
    "\n",
    "#--- YOUR CODE ENDS HERE ---#"
   ]
  },
  {
   "cell_type": "code",
   "execution_count": null,
   "id": "eb3f8606-d2ac-4bfd-b1b8-098f3a0927de",
   "metadata": {
    "ExecuteTime": {
     "end_time": "2024-10-24T15:11:29.726000+02:00",
     "start_time": "2024-10-24T13:11:24.392Z"
    },
    "deletable": false,
    "editable": false,
    "nbgrader": {
     "cell_type": "code",
     "checksum": "a545c9285e98818e41451ef5fe17e15a",
     "grade": true,
     "grade_id": "cell-b24199f2e9388d9c",
     "locked": true,
     "points": 1,
     "schema_version": 3,
     "solution": false,
     "task": false
    },
    "tags": []
   },
   "outputs": [],
   "source": [
    "@assert isnan(w_0) == false \"Your value for w_0 is NaN\"\n",
    "\n",
    "# please leave this cell as it is\n"
   ]
  },
  {
   "cell_type": "code",
   "execution_count": null,
   "id": "7d840411-760f-4232-b942-abbcfffbdc11",
   "metadata": {
    "ExecuteTime": {
     "end_time": "2024-10-24T15:11:29.741000+02:00",
     "start_time": "2024-10-24T13:11:24.393Z"
    },
    "deletable": false,
    "editable": false,
    "nbgrader": {
     "cell_type": "code",
     "checksum": "35deff0527fd4b038f2ca07b21c46fed",
     "grade": true,
     "grade_id": "cell-fee1dd5999288431",
     "locked": true,
     "points": 1,
     "schema_version": 3,
     "solution": false,
     "task": false
    },
    "tags": []
   },
   "outputs": [],
   "source": [
    "@assert isnan(w_1) == false \"Your value for w_1 is NaN\"\n",
    "\n",
    "# please leave this cell as it is\n"
   ]
  },
  {
   "cell_type": "markdown",
   "id": "532b43c9-b58f-4d6a-884f-1638206b6e11",
   "metadata": {
    "deletable": false,
    "editable": false,
    "nbgrader": {
     "cell_type": "markdown",
     "checksum": "85c5b273dc8d14e1c0788f08f9be7739",
     "grade": false,
     "grade_id": "cell-ecdbb22fa332a2d2",
     "locked": true,
     "schema_version": 3,
     "solution": false,
     "task": false
    },
    "tags": []
   },
   "source": [
    "### Task 2: Parameter Estimation of the DC Motor - (5 points)"
   ]
  },
  {
   "cell_type": "markdown",
   "id": "96e76f85-e03c-4f72-9ac1-183a99d23866",
   "metadata": {
    "deletable": false,
    "editable": false,
    "nbgrader": {
     "cell_type": "markdown",
     "checksum": "c3e0c362a34efb431821219aa9bba63d",
     "grade": false,
     "grade_id": "cell-d0c18497b0f2abf1",
     "locked": true,
     "schema_version": 3,
     "solution": false,
     "task": false
    },
    "tags": []
   },
   "source": [
    "The electrical behaviour of the DC motor in steady state is characterized by the following static equation\n",
    "\n",
    "$$\n",
    "\\begin{align}\n",
    "    i_s = u_s \\frac{1}{R_s} - \\omega \\frac{\\Psi_E}{R_s}\n",
    "\\end{align}\n",
    "$$\n",
    "\n",
    "where $u_s$ is the voltage provided by a power supply, $\\omega$ is the rotation speed which is set by a mechanical load machine, $R_s$ and $\\Psi_E$ are unknown values and $i_s$ is the current that can be measured after the motor reached steady-state operation. For the whole task, you can assume that $u_s$ and $\\omega$ are perfectly known, while the measured values for $i_s$ are affected by bias-free, additive, Gaussian noise."
   ]
  },
  {
   "cell_type": "markdown",
   "id": "6d21ee27-6b47-401d-a2f6-62ea20202c11",
   "metadata": {
    "deletable": false,
    "editable": false,
    "nbgrader": {
     "cell_type": "markdown",
     "checksum": "6cad8455963b1f65a43d77698be5d1dd",
     "grade": false,
     "grade_id": "cell-2ec2dff2e45e6f61",
     "locked": true,
     "schema_version": 3,
     "solution": false,
     "task": false
    },
    "tags": []
   },
   "source": [
    "**a)** Consider the system described above. Assign each of the equation components to the different elements of the least squares problem. For this, map each of the components in the cell below to one of the following classes: **- (0.5 points)**\n",
    "- class **1**: Measurements $\\boldsymbol{y}$\n",
    "- class **2**: Regressors $\\boldsymbol{z}$\n",
    "- class **3**: Parameters $\\boldsymbol{w}$ (this is the letter $\\boldsymbol{w}$ for the parameter vector not to be confused with the greek symbol $\\omega$ for the angular velocity)"
   ]
  },
  {
   "cell_type": "code",
   "execution_count": null,
   "id": "c16cf878-9279-4240-a8e7-556bac3e0442",
   "metadata": {
    "ExecuteTime": {
     "end_time": "2024-10-24T15:11:29.744000+02:00",
     "start_time": "2024-10-24T13:11:24.395Z"
    },
    "deletable": false,
    "nbgrader": {
     "cell_type": "code",
     "checksum": "081722e796e30f04118b4019ed4e65f3",
     "grade": false,
     "grade_id": "cell-6d3f3c8637b1dd1f",
     "locked": false,
     "schema_version": 3,
     "solution": true,
     "task": false
    },
    "tags": []
   },
   "outputs": [],
   "source": [
    "# choose 1,2 or 3\n",
    "\n",
    "class_i_s = 0\n",
    "class_u_s = 0\n",
    "class_one_over_R_s = 0  # i.e. 1/R_s\n",
    "class_omega = 0\n",
    "class_minus_Psi_E_over_R_s = 0  # i.e. - Psi_E/R_s\n",
    "\n",
    "#--- YOUR CODE STARTS HERE ---#\n",
    "\n",
    "#--- YOUR CODE ENDS HERE ---#"
   ]
  },
  {
   "cell_type": "code",
   "execution_count": null,
   "id": "f8a4a19e-4775-42c6-97f7-f31fcc58dbea",
   "metadata": {
    "ExecuteTime": {
     "end_time": "2024-10-24T15:11:29.749000+02:00",
     "start_time": "2024-10-24T13:11:24.396Z"
    },
    "deletable": false,
    "editable": false,
    "nbgrader": {
     "cell_type": "code",
     "checksum": "f5c047674bd3f09d9a6b6a9bdc9d5afb",
     "grade": true,
     "grade_id": "cell-18008ded3921637c",
     "locked": true,
     "points": 0.5,
     "schema_version": 3,
     "solution": false,
     "task": false
    },
    "tags": []
   },
   "outputs": [],
   "source": [
    "@assert 1 <= class_i_s <= 3  \n",
    "@assert 1 <= class_u_s <= 3  \n",
    "@assert 1 <= class_one_over_Rs <= 3  \n",
    "@assert 1 <= class_omega <= 3  \n",
    "@assert 1 <= class_minus_Psi_E_over_R_s <= 3  \n",
    "\n",
    "# please leave this cell as it is\n"
   ]
  },
  {
   "cell_type": "markdown",
   "id": "4ba8c5d7-f488-40f7-b1af-3920ea899349",
   "metadata": {
    "deletable": false,
    "editable": false,
    "nbgrader": {
     "cell_type": "markdown",
     "checksum": "4308b04d512aa7f3adc9900bff75a403",
     "grade": false,
     "grade_id": "cell-398dcd2ce3502998",
     "locked": true,
     "schema_version": 3,
     "solution": false,
     "task": false
    },
    "tags": []
   },
   "source": [
    "**b)** Implement the function below to calculate the parameters $\\boldsymbol{w}$ from the regressor matrix $\\boldsymbol{Z}$ and the measurement vector $\\boldsymbol{y}$ using the ordinary least squares approach from the lecture. **- (1 point)**\n",
    "\n",
    "**Hint**: This is not specific to the system at hand."
   ]
  },
  {
   "cell_type": "code",
   "execution_count": null,
   "id": "a33098f6-c833-47e9-a742-e1a24896ab81",
   "metadata": {
    "ExecuteTime": {
     "end_time": "2024-10-24T15:11:29.751000+02:00",
     "start_time": "2024-10-24T13:11:24.397Z"
    },
    "deletable": false,
    "nbgrader": {
     "cell_type": "code",
     "checksum": "ad36a379a9c9bbcda9fd29ade85eb9c6",
     "grade": false,
     "grade_id": "cell-7a395d03c399fb11",
     "locked": false,
     "schema_version": 3,
     "solution": true,
     "task": false
    },
    "tags": []
   },
   "outputs": [],
   "source": [
    "function parameter_calculation_OLS(Z, y)\n",
    "    \"\"\"\n",
    "    Args:\n",
    "        Z: regressor matrix with shape (n_measurements, n_regressors)\n",
    "        y: measurement_vector with shape (n_measurements)\n",
    "    \n",
    "    Returns:\n",
    "        The parameter vector w with shape (n_parameters)\n",
    "    \"\"\"\n",
    "    \n",
    "    #--- YOUR CODE STARTS HERE ---#\n",
    "    \n",
    "    #--- YOUR CODE ENDS HERE ---#\n",
    "    return w\n",
    "end;"
   ]
  },
  {
   "cell_type": "code",
   "execution_count": null,
   "id": "0872386c-6f46-46a4-b210-0b1e7d5ab764",
   "metadata": {
    "ExecuteTime": {
     "end_time": "2024-10-24T15:11:30.837000+02:00",
     "start_time": "2024-10-24T13:11:24.398Z"
    },
    "deletable": false,
    "editable": false,
    "nbgrader": {
     "cell_type": "code",
     "checksum": "b9343d0f4346b14b491500d16181b6ea",
     "grade": true,
     "grade_id": "cell-afe2c2a7f1fc95be",
     "locked": true,
     "points": 1,
     "schema_version": 3,
     "solution": false,
     "task": false
    },
    "tags": []
   },
   "outputs": [],
   "source": [
    "@assert isa(parameter_calculation_OLS, Function)\n",
    "\n",
    "# please leave this cell as it is\n"
   ]
  },
  {
   "cell_type": "code",
   "execution_count": null,
   "id": "652642b7",
   "metadata": {
    "ExecuteTime": {
     "end_time": "2024-10-24T15:11:31.430000+02:00",
     "start_time": "2024-10-24T13:11:24.399Z"
    },
    "deletable": false,
    "editable": false,
    "nbgrader": {
     "cell_type": "code",
     "checksum": "36d13b879b574b122efee51177fb0aa1",
     "grade": true,
     "grade_id": "cell-23d6592d2175e406",
     "locked": true,
     "points": 0,
     "schema_version": 3,
     "solution": false,
     "task": false
    }
   },
   "outputs": [],
   "source": [
    "# please leave this cell as it is\n"
   ]
  },
  {
   "cell_type": "markdown",
   "id": "bd4472f7-2986-49fb-9a82-4edeecb5a42e",
   "metadata": {
    "deletable": false,
    "editable": false,
    "nbgrader": {
     "cell_type": "markdown",
     "checksum": "2f1081f51d6c6751cf0d5f42aa725254",
     "grade": false,
     "grade_id": "cell-1da0bbfa432b7441",
     "locked": true,
     "schema_version": 3,
     "solution": false,
     "task": false
    },
    "tags": []
   },
   "source": [
    "**c)** Use the function implemented in subtask b) and the given data for $u_s$, $\\omega$ and $i_s$ to estimate values for $a = \\frac{1}{R_s}$ and $b = -\\frac{\\Psi_E}{R_s}$. Put your results for $a$ and $b$ into the variables below. **- (1 point)**"
   ]
  },
  {
   "cell_type": "code",
   "execution_count": null,
   "id": "cfa99467-4cca-47b2-b099-fec3f24c6690",
   "metadata": {
    "ExecuteTime": {
     "end_time": "2024-10-24T15:11:35.765000+02:00",
     "start_time": "2024-10-24T13:11:24.401Z"
    },
    "deletable": false,
    "editable": false,
    "nbgrader": {
     "cell_type": "code",
     "checksum": "e3d375efe409396a30fd3fbe587a4979",
     "grade": false,
     "grade_id": "cell-56c8e6af3bcdb641",
     "locked": true,
     "schema_version": 3,
     "solution": false,
     "task": false
    },
    "tags": []
   },
   "outputs": [],
   "source": [
    "using MAT\n",
    "\n",
    "data_task_2 = matopen(\"data_task_2.mat\")\n",
    "\n",
    "# read data\n",
    "u_s = read(data_task_2, \"u_s\");\n",
    "omega = read(data_task_2, \"omega\");\n",
    "i_s = read(data_task_2, \"i\");"
   ]
  },
  {
   "cell_type": "code",
   "execution_count": null,
   "id": "90ac1b19-30a4-45f7-b775-6ab566f6a220",
   "metadata": {
    "ExecuteTime": {
     "end_time": "2024-10-24T15:11:37.080000+02:00",
     "start_time": "2024-10-24T13:11:24.402Z"
    },
    "deletable": false,
    "nbgrader": {
     "cell_type": "code",
     "checksum": "64165e120ebf5c024c0aa1867a4402e3",
     "grade": false,
     "grade_id": "cell-fb932c68d8a13b80",
     "locked": false,
     "schema_version": 3,
     "solution": true,
     "task": false
    },
    "tags": []
   },
   "outputs": [],
   "source": [
    "# variables for you to overwrite\n",
    "a = NaN\n",
    "b = NaN\n",
    "\n",
    "#--- YOUR CODE STARTS HERE ---#\n",
    "\n",
    "#--- YOUR CODE ENDS HERE ---#"
   ]
  },
  {
   "cell_type": "code",
   "execution_count": null,
   "id": "2888745e-a266-427d-9919-02ab0dbec31e",
   "metadata": {
    "ExecuteTime": {
     "end_time": "2024-10-24T15:11:37.098000+02:00",
     "start_time": "2024-10-24T13:11:24.403Z"
    },
    "deletable": false,
    "editable": false,
    "nbgrader": {
     "cell_type": "code",
     "checksum": "f4c7046f6ac2d13629a0fb5594626d9c",
     "grade": true,
     "grade_id": "cell-eec824a224d98d41",
     "locked": true,
     "points": 1,
     "schema_version": 3,
     "solution": false,
     "task": false
    },
    "tags": []
   },
   "outputs": [],
   "source": [
    "@assert isnan(a) == false \"Your value for a is NaN\"\n",
    "@assert isnan(b) == false \"Your value for b is NaN\"\n",
    "\n",
    "@assert a > 0 \"The resistance must be positive by physical constraints, that is, 'a' must be positive\"\n",
    "@assert b < 0 \"The resistance and the flux linkage must be positive, that is, 'b' must be negative\"\n",
    "\n",
    "# please leave this cell as it is\n"
   ]
  },
  {
   "cell_type": "code",
   "execution_count": null,
   "id": "992e2b43",
   "metadata": {
    "ExecuteTime": {
     "end_time": "2024-10-24T15:11:37.158000+02:00",
     "start_time": "2024-10-24T13:11:24.404Z"
    },
    "deletable": false,
    "editable": false,
    "nbgrader": {
     "cell_type": "code",
     "checksum": "b36bea7f2142d4b4f44dc0e6f22a9911",
     "grade": true,
     "grade_id": "cell-3b7f861ee03b4c2b",
     "locked": true,
     "points": 0,
     "schema_version": 3,
     "solution": false,
     "task": false
    }
   },
   "outputs": [],
   "source": [
    "# please leave this cell as it is\n"
   ]
  },
  {
   "cell_type": "markdown",
   "id": "3325cd24-777d-4ccf-8c19-2e1356cf6fbc",
   "metadata": {
    "deletable": false,
    "editable": false,
    "nbgrader": {
     "cell_type": "markdown",
     "checksum": "b009a8bc9689f6e77d1d6aa28c10ce12",
     "grade": false,
     "grade_id": "cell-0c8d5caf400c0428",
     "locked": true,
     "schema_version": 3,
     "solution": false,
     "task": false
    },
    "tags": []
   },
   "source": [
    "**d)** Implement a function to compute estimations for $R_s$ and $\\Psi_E$ based on $a$ and $b$. **- (0.5 points)**"
   ]
  },
  {
   "cell_type": "code",
   "execution_count": null,
   "id": "92467cea-53cf-4788-a49f-87c74261522a",
   "metadata": {
    "ExecuteTime": {
     "end_time": "2024-10-24T15:11:37.160000+02:00",
     "start_time": "2024-10-24T13:11:24.405Z"
    },
    "deletable": false,
    "nbgrader": {
     "cell_type": "code",
     "checksum": "f96d96692c0711083321d5e98bbfad1c",
     "grade": false,
     "grade_id": "cell-de734069667417d5",
     "locked": false,
     "schema_version": 3,
     "solution": true,
     "task": false
    },
    "tags": []
   },
   "outputs": [],
   "source": [
    "function compute_Rs_Psi_E(a, b)\n",
    "\n",
    "    #--- YOUR CODE STARTS HERE ---#\n",
    "    \n",
    "    #--- YOUR CODE ENDS HERE ---#\n",
    "\n",
    "    return R_s, Psi_E\n",
    "end;"
   ]
  },
  {
   "cell_type": "code",
   "execution_count": null,
   "id": "f35158ad-2335-42da-bdd0-19f46f2a47c1",
   "metadata": {
    "ExecuteTime": {
     "end_time": "2024-10-24T15:11:37.188000+02:00",
     "start_time": "2024-10-24T13:11:24.406Z"
    },
    "deletable": false,
    "editable": false,
    "nbgrader": {
     "cell_type": "code",
     "checksum": "87fc40bd0ea5fbf6f175ea7b50797d5d",
     "grade": true,
     "grade_id": "cell-73c4a9a074fd3837",
     "locked": true,
     "points": 0.5,
     "schema_version": 3,
     "solution": false,
     "task": false
    },
    "tags": []
   },
   "outputs": [],
   "source": [
    "# please leave this cell as it is\n"
   ]
  },
  {
   "cell_type": "markdown",
   "id": "c072af20-a0c6-4bca-8fa3-06eea82cbda3",
   "metadata": {
    "deletable": false,
    "editable": false,
    "nbgrader": {
     "cell_type": "markdown",
     "checksum": "7d94d846ff578ec7d17e9299e69dc205",
     "grade": false,
     "grade_id": "cell-2af6e38f0a8ce981",
     "locked": true,
     "schema_version": 3,
     "solution": false,
     "task": false
    },
    "tags": []
   },
   "source": [
    "**e)** Analyse the accuracy of your parameter estimates. For this, take into consideration that the measured values for $i_{s}$, that you loaded from the file, are affected by bias-free, additive, Gaussian noise:\n",
    "\n",
    "$$\n",
    "\\begin{align}\n",
    "i_{s} = i_{s, true} + \\nu \\quad \\mathrm{with} \\, \\nu \\sim \\mathcal{N}(0, \\sigma_n^2).\n",
    "\\end{align}\n",
    "$$"
   ]
  },
  {
   "cell_type": "markdown",
   "id": "1786a591-0303-4e52-b3fc-0800dd3e5cf9",
   "metadata": {
    "deletable": false,
    "editable": false,
    "nbgrader": {
     "cell_type": "markdown",
     "checksum": "6666d51a7fa7a3325cc61e1de0c3ca92",
     "grade": false,
     "grade_id": "cell-db5caa876960ff18",
     "locked": true,
     "schema_version": 3,
     "solution": false,
     "task": false
    },
    "tags": []
   },
   "source": [
    "i) Estimate the corrected sample variance of $\\nu$ from the measurements for $i_s$, that you were given, and your estimate $\\hat{i}_s$, that is based on the estimated parameters. **- (0.5 points)**"
   ]
  },
  {
   "cell_type": "code",
   "execution_count": null,
   "id": "688c9571-33fc-46d4-8dcb-6f7b8535b5a2",
   "metadata": {
    "ExecuteTime": {
     "end_time": "2024-10-24T15:11:38.038000+02:00",
     "start_time": "2024-10-24T13:11:24.407Z"
    },
    "deletable": false,
    "nbgrader": {
     "cell_type": "code",
     "checksum": "be6d7f1f04eb6cfcabf5fca64673ab2b",
     "grade": false,
     "grade_id": "cell-58f9cd149f44ba50",
     "locked": false,
     "schema_version": 3,
     "solution": true,
     "task": false
    },
    "tags": []
   },
   "outputs": [],
   "source": [
    "var_nu = NaN\n",
    "\n",
    "#--- YOUR CODE STARTS HERE ---#\n",
    "\n",
    "#--- YOUR CODE ENDS HERE ---#"
   ]
  },
  {
   "cell_type": "code",
   "execution_count": null,
   "id": "8fb270c1-6aff-4328-89e6-385be099d413",
   "metadata": {
    "ExecuteTime": {
     "end_time": "2024-10-24T15:11:38.041000+02:00",
     "start_time": "2024-10-24T13:11:24.408Z"
    },
    "deletable": false,
    "editable": false,
    "nbgrader": {
     "cell_type": "code",
     "checksum": "e28b357d99b1fb74c3727d42fe106ca2",
     "grade": true,
     "grade_id": "cell-005a85dce295b7a4",
     "locked": true,
     "points": 0.5,
     "schema_version": 3,
     "solution": false,
     "task": false
    },
    "tags": []
   },
   "outputs": [],
   "source": [
    "@assert isnan(var_nu) == false \"Your value for the variance of nu is not a number.\"\n",
    "@assert var_nu > 0 \"A variance is always positive.\"\n",
    "\n",
    "# please leave this cell as it is\n"
   ]
  },
  {
   "cell_type": "markdown",
   "id": "eef7590f-6d4e-452c-8334-95d684dba215",
   "metadata": {
    "deletable": false,
    "editable": false,
    "nbgrader": {
     "cell_type": "markdown",
     "checksum": "a7454bc862181665fef7b5f2c93af394",
     "grade": false,
     "grade_id": "cell-490f557a366b1263",
     "locked": true,
     "schema_version": 3,
     "solution": false,
     "task": false
    },
    "tags": []
   },
   "source": [
    "ii) Implement the function below to estimate the covariance matrix of the parameter vector $\\boldsymbol{w}$ based on the noise variance $\\sigma_n^2$ and the regressor matrix $\\boldsymbol{Z}$ **- (0.5 points)**"
   ]
  },
  {
   "cell_type": "code",
   "execution_count": null,
   "id": "1d2b6169-d125-4b3e-99c6-d3efa729e21a",
   "metadata": {
    "ExecuteTime": {
     "end_time": "2024-10-24T15:11:38.042000+02:00",
     "start_time": "2024-10-24T13:11:24.409Z"
    },
    "deletable": false,
    "nbgrader": {
     "cell_type": "code",
     "checksum": "8c43362d67a86c7ae63dcf50521ab9fa",
     "grade": false,
     "grade_id": "cell-1123100767a66d44",
     "locked": false,
     "schema_version": 3,
     "solution": true,
     "task": false
    },
    "tags": []
   },
   "outputs": [],
   "source": [
    "function estimate_covariance_matrix(var_nu, Z)\n",
    "    \"\"\"\n",
    "    Args:\n",
    "        var_nu: variance of the noise process\n",
    "        Z: regressor matrix with shape (n_measurements, n_regressors)\n",
    "\n",
    "    Returns:\n",
    "        covariance matrix of w\n",
    "    \"\"\"\n",
    "    \n",
    "    #--- YOUR CODE STARTS HERE ---#\n",
    "    \n",
    "    #--- YOUR CODE ENDS HERE ---#\n",
    "\n",
    "    return cov_w\n",
    "end;"
   ]
  },
  {
   "cell_type": "code",
   "execution_count": null,
   "id": "1c625d5e-7443-4d02-97e5-e4bf2cffbbed",
   "metadata": {
    "ExecuteTime": {
     "end_time": "2024-10-24T15:11:40.138000+02:00",
     "start_time": "2024-10-24T13:11:24.410Z"
    },
    "deletable": false,
    "editable": false,
    "nbgrader": {
     "cell_type": "code",
     "checksum": "a25fcdfa24cda86ac0799b7c606e4923",
     "grade": true,
     "grade_id": "cell-ebe32496af8bba27",
     "locked": true,
     "points": 0.5,
     "schema_version": 3,
     "solution": false,
     "task": false
    },
    "tags": []
   },
   "outputs": [],
   "source": [
    "# please leave this cell as it is\n"
   ]
  },
  {
   "cell_type": "markdown",
   "id": "dc50395e-c4de-41e1-b7b2-4e2f0509700a",
   "metadata": {
    "deletable": false,
    "editable": false,
    "nbgrader": {
     "cell_type": "markdown",
     "checksum": "33207b6f87b921cc82ce8045aaaf78c3",
     "grade": false,
     "grade_id": "cell-e78a16f512486d0a",
     "locked": true,
     "schema_version": 3,
     "solution": false,
     "task": false
    },
    "tags": []
   },
   "source": [
    "iii) Evaluate the coefficient of determination for the regression problem (see https://en.wikipedia.org/wiki/Coefficient_of_determination). **- (1 point)**\n",
    "\n",
    "$$\n",
    "\\begin{align}\n",
    "    R^2 = 1 - \\frac{\\sum_i{(y_i - \\hat{y}_i)^2}}{\\sum_i{(y_i - \\bar{y})^2}}\n",
    "\\end{align}\n",
    "$$"
   ]
  },
  {
   "cell_type": "code",
   "execution_count": null,
   "id": "ce59ccdd-8fcf-4dff-b720-b7958a547d3d",
   "metadata": {
    "ExecuteTime": {
     "end_time": "2024-10-24T15:11:40.320000+02:00",
     "start_time": "2024-10-24T13:11:24.411Z"
    },
    "deletable": false,
    "nbgrader": {
     "cell_type": "code",
     "checksum": "8e7420c40867a037c56a5a731edeea51",
     "grade": false,
     "grade_id": "cell-b0cecce9d9deca39",
     "locked": false,
     "schema_version": 3,
     "solution": true,
     "task": false
    },
    "tags": []
   },
   "outputs": [],
   "source": [
    "R_squared = NaN  # put your solution into this variable\n",
    "\n",
    "#--- YOUR CODE STARTS HERE ---#\n",
    "\n",
    "#--- YOUR CODE ENDS HERE ---#"
   ]
  },
  {
   "cell_type": "code",
   "execution_count": null,
   "id": "c411dc83-3be6-47e9-927e-e040992cbaf7",
   "metadata": {
    "ExecuteTime": {
     "end_time": "2024-10-24T15:11:40.322000+02:00",
     "start_time": "2024-10-24T13:11:24.412Z"
    },
    "deletable": false,
    "editable": false,
    "nbgrader": {
     "cell_type": "code",
     "checksum": "8ac438d5339cd5ec22f2179c54d1d2ec",
     "grade": true,
     "grade_id": "cell-5fe000009068f83d",
     "locked": true,
     "points": 1,
     "schema_version": 3,
     "solution": false,
     "task": false
    },
    "tags": []
   },
   "outputs": [],
   "source": [
    "@assert isnan(R_squared) == false \"Your value for the coefficient of determination is not a number.\"\n",
    "\n",
    "# please leave this cell as it is\n"
   ]
  },
  {
   "cell_type": "markdown",
   "id": "12b7c09e-8654-4dcb-972b-269315bafe2d",
   "metadata": {
    "deletable": false,
    "editable": false,
    "nbgrader": {
     "cell_type": "markdown",
     "checksum": "37e10502eb383f11f054116c388bc2fb",
     "grade": false,
     "grade_id": "cell-535b366bf3284cd2",
     "locked": true,
     "schema_version": 3,
     "solution": false,
     "task": false
    },
    "tags": []
   },
   "source": [
    "### Task 3: Estimate Polynom Coefficients - (3 points)"
   ]
  },
  {
   "cell_type": "markdown",
   "id": "65a92cb5-af14-4470-a608-04562f467b34",
   "metadata": {
    "deletable": false,
    "editable": false,
    "nbgrader": {
     "cell_type": "markdown",
     "checksum": "dbdb531c922a02892ff43f07319249e9",
     "grade": false,
     "grade_id": "cell-f7008b9f5becb337",
     "locked": true,
     "schema_version": 3,
     "solution": false,
     "task": false
    },
    "tags": []
   },
   "source": [
    "The given data was produced using a polynomial of the form\n",
    "\n",
    "\n",
    "$$\n",
    "\\begin{align}\n",
    "    y = w_0 + x \\cdot w_1 + \\dots + x^p \\cdot w_p\n",
    "\\end{align}\n",
    "$$\n",
    "\n",
    "with an unknown degree $p$.\n",
    "\n",
    "Below you are given data for the inputs $x$ and the outputs $y$. On the one hand you are given training data you will use for the identification of coefficients (estimation of a model) and validation data\n",
    "that is used to evaluate the generalization performance of your model. All of the data for the measurements $y$ is affected by bias-free, additive, Gaussian noise, i.e., the values you are given below do not fully follow the formula given above, but instead\n",
    "\n",
    "$$\n",
    "\\begin{align}\n",
    "    y = w_0 + x \\cdot w_1 + \\dots + x^p \\cdot w_p + \\nu \\quad \\mathrm{with} \\, \\nu \\sim \\mathcal{N}(0, \\sigma_n^2).\n",
    "\\end{align}\n",
    "$$\n",
    "\n",
    "The variance of the noise process is unknown, but it is also not necessary to estimate it for completing this task."
   ]
  },
  {
   "cell_type": "code",
   "execution_count": null,
   "id": "de8ca220-3d35-4ece-a9de-a5f64c8fd7ba",
   "metadata": {
    "ExecuteTime": {
     "end_time": "2024-10-24T15:11:40.325000+02:00",
     "start_time": "2024-10-24T13:11:24.414Z"
    },
    "deletable": false,
    "editable": false,
    "nbgrader": {
     "cell_type": "code",
     "checksum": "097975e72e2d753ba6ff842cb316eab0",
     "grade": false,
     "grade_id": "cell-42a812ba81a50655",
     "locked": true,
     "schema_version": 3,
     "solution": false,
     "task": false
    },
    "tags": []
   },
   "outputs": [],
   "source": [
    "using MAT\n",
    "data_task_3 = matopen(\"data_task_3.mat\");"
   ]
  },
  {
   "cell_type": "code",
   "execution_count": null,
   "id": "3baee800-e3e1-4498-bb71-fc1c129e8544",
   "metadata": {
    "ExecuteTime": {
     "end_time": "2024-10-24T15:11:40.585000+02:00",
     "start_time": "2024-10-24T13:11:24.414Z"
    },
    "deletable": false,
    "editable": false,
    "nbgrader": {
     "cell_type": "code",
     "checksum": "b078d1b6d93e7a122bc2cad9b1666a5e",
     "grade": false,
     "grade_id": "cell-ed5de15dff57df4f",
     "locked": true,
     "schema_version": 3,
     "solution": false,
     "task": false
    },
    "tags": []
   },
   "outputs": [],
   "source": [
    "# training data\n",
    "x_training = read(data_task_3, \"x_training\")[1, :];\n",
    "y_training = read(data_task_3, \"y_training\")[1, :];\n",
    " \n",
    "# validation data\n",
    "x_validation = read(data_task_3, \"x_validation\")[1, :];\n",
    "y_validation = read(data_task_3, \"y_validation\")[1, :];"
   ]
  },
  {
   "cell_type": "markdown",
   "id": "aca684ae-0eea-453f-a341-00ec30d38c24",
   "metadata": {
    "deletable": false,
    "editable": false,
    "nbgrader": {
     "cell_type": "markdown",
     "checksum": "73a32723db92d33887a177286b2d714c",
     "grade": false,
     "grade_id": "cell-b369812990fb1575",
     "locked": true,
     "schema_version": 3,
     "solution": false,
     "task": false
    },
    "tags": []
   },
   "source": [
    "**a)** Consider the regression problem of the form:\n",
    "\n",
    "$$\n",
    "\\begin{align}\n",
    "    \\boldsymbol{y} = \\boldsymbol{Z} \\cdot \\boldsymbol{w}  + \\boldsymbol{\\nu}.\n",
    "\\end{align}\n",
    "$$\n",
    "\n",
    "Implement the function below to compute the regressor matrix $\\boldsymbol{Z}$ for the polynom coefficient estimation problem described above. The function takes the input data $\\boldsymbol{x}$ and the degree of the polynom $p$ as inputs. **- (0.5 points)**\n",
    "\n",
    "**Example:** If $p=2$, we get a model until the 2nd polynomial degree\n",
    "\n",
    "$$\n",
    "\\begin{align}\n",
    "    y = w_0 + x \\cdot w_1 + x^2 \\cdot w_2\n",
    "\\end{align}\n",
    "$$\n",
    "\n",
    "which results in the regressor vector\n",
    "\n",
    "$$\n",
    "\\begin{align}\n",
    "    \\boldsymbol{z} = \\begin{bmatrix} 1 & x & x^2 \\end{bmatrix}.\n",
    "\\end{align}\n",
    "$$\n",
    "\n",
    "With an input vector $\\boldsymbol{x} = \\begin{bmatrix} 1 & 2 & 3 \\end{bmatrix}$ this results in the regressor matrix\n",
    "\n",
    "$$\n",
    "\\begin{align}\n",
    "    \\boldsymbol{Z} = \\begin{bmatrix}\n",
    "        1 & 1 & 1 \\\\\n",
    "        1 & 2 & 4 \\\\\n",
    "        1 & 3 & 9 \\\\\n",
    "    \\end{bmatrix}.\n",
    "\\end{align}\n",
    "$$\n",
    "\n"
   ]
  },
  {
   "cell_type": "code",
   "execution_count": null,
   "id": "978de4c9-a712-4676-9a84-7a58132203e9",
   "metadata": {
    "ExecuteTime": {
     "end_time": "2024-10-24T15:11:40.866000+02:00",
     "start_time": "2024-10-24T13:11:24.416Z"
    },
    "deletable": false,
    "nbgrader": {
     "cell_type": "code",
     "checksum": "b1eb5eb8ddea7d95ac6ead1a81736683",
     "grade": false,
     "grade_id": "cell-ef3d22676d057b8e",
     "locked": false,
     "schema_version": 3,
     "solution": true,
     "task": false
    },
    "tags": []
   },
   "outputs": [],
   "source": [
    "function regressor_matrix(x, p)\n",
    "    \"\"\"\n",
    "    Args:\n",
    "        x: Input data\n",
    "        p: Degree of the polynomial\n",
    "    \n",
    "    Returns:\n",
    "        Regressor matrix Z with shape (length(x), p+1)\n",
    "    \"\"\"\n",
    "    \n",
    "    #--- YOUR CODE STARTS HERE ---#\n",
    "    \n",
    "    #--- YOUR CODE ENDS HERE ---#\n",
    "\n",
    "    return Z\n",
    "end"
   ]
  },
  {
   "cell_type": "code",
   "execution_count": null,
   "id": "b00268c2-a928-478b-ba16-c0a2e78d8cdc",
   "metadata": {
    "ExecuteTime": {
     "end_time": "2024-10-24T15:11:41.219000+02:00",
     "start_time": "2024-10-24T13:11:24.416Z"
    },
    "deletable": false,
    "editable": false,
    "nbgrader": {
     "cell_type": "code",
     "checksum": "52ce7ffdbf26165b5990001df4f2f811",
     "grade": true,
     "grade_id": "cell-4075f6537a5a6334",
     "locked": true,
     "points": 0.5,
     "schema_version": 3,
     "solution": false,
     "task": false
    },
    "tags": []
   },
   "outputs": [],
   "source": [
    "@assert isa(regressor_matrix, Function)\n",
    "\n",
    "# please leave this cell as it is\n"
   ]
  },
  {
   "cell_type": "code",
   "execution_count": null,
   "id": "913f7c35",
   "metadata": {
    "ExecuteTime": {
     "end_time": "2024-10-24T15:11:41.221000+02:00",
     "start_time": "2024-10-24T13:11:24.417Z"
    },
    "deletable": false,
    "editable": false,
    "nbgrader": {
     "cell_type": "code",
     "checksum": "4c8704348ed05105f42273deb158899b",
     "grade": true,
     "grade_id": "cell-a7e659c0a88fbb76",
     "locked": true,
     "points": 0,
     "schema_version": 3,
     "solution": false,
     "task": false
    }
   },
   "outputs": [],
   "source": [
    "# please leave this cell as it is\n"
   ]
  },
  {
   "cell_type": "markdown",
   "id": "e8d45c80-9587-49ef-b10d-f93c73656c8f",
   "metadata": {
    "deletable": false,
    "editable": false,
    "nbgrader": {
     "cell_type": "markdown",
     "checksum": "d48fa6793053b03fc08b01a0325b1368",
     "grade": false,
     "grade_id": "cell-a6bb1f83a24e453c",
     "locked": true,
     "schema_version": 3,
     "solution": false,
     "task": false
    },
    "tags": []
   },
   "source": [
    "**b)** Write the computation of the parameter estimation using OLS as a function of the input data $\\boldsymbol{x}$, the output data $\\boldsymbol{y}$ and the degree of the polynomial $p$. Your goal is to find the parameters $\\boldsymbol{w}$ for the polynom of degree $p$. Use the function for the computation of the regression matrix that was asked for in subtask a) **- (0.5 points)**"
   ]
  },
  {
   "cell_type": "code",
   "execution_count": null,
   "id": "f033671c-cc9d-458b-9073-063444ac2a51",
   "metadata": {
    "ExecuteTime": {
     "end_time": "2024-10-24T15:11:41.237000+02:00",
     "start_time": "2024-10-24T13:11:24.417Z"
    },
    "deletable": false,
    "nbgrader": {
     "cell_type": "code",
     "checksum": "006a0112ed455e4a6b6282dfa092e62f",
     "grade": false,
     "grade_id": "cell-be54ff5be59de6b8",
     "locked": false,
     "schema_version": 3,
     "solution": true,
     "task": false
    },
    "tags": []
   },
   "outputs": [],
   "source": [
    "function compute_parameter_estimation(x, y, p)\n",
    "    \"\"\"\n",
    "    Args:\n",
    "        x: Input data\n",
    "        y: Output data\n",
    "        p: Degree of the polynomial\n",
    "    \n",
    "    Returns:\n",
    "        parameter vector w with shape (p+1)\n",
    "    \"\"\"\n",
    "    \n",
    "    #--- YOUR CODE STARTS HERE ---#\n",
    "    \n",
    "    #--- YOUR CODE ENDS HERE ---#\n",
    "\n",
    "    return w\n",
    "end"
   ]
  },
  {
   "cell_type": "code",
   "execution_count": null,
   "id": "731336be-67b9-4f27-88e0-d6c0bfcd97df",
   "metadata": {
    "ExecuteTime": {
     "end_time": "2024-10-24T15:11:41.343000+02:00",
     "start_time": "2024-10-24T13:11:24.418Z"
    },
    "deletable": false,
    "editable": false,
    "nbgrader": {
     "cell_type": "code",
     "checksum": "7b56f0aa46d8033f3a09d749081be6ba",
     "grade": true,
     "grade_id": "cell-1446419df57805ac",
     "locked": true,
     "points": 0.5,
     "schema_version": 3,
     "solution": false,
     "task": false
    },
    "tags": []
   },
   "outputs": [],
   "source": [
    "@assert isa(compute_parameter_estimation, Function)\n",
    "\n",
    "# please leave this cell as it is\n"
   ]
  },
  {
   "cell_type": "code",
   "execution_count": null,
   "id": "dd110c81",
   "metadata": {
    "ExecuteTime": {
     "end_time": "2024-10-24T15:11:41.345000+02:00",
     "start_time": "2024-10-24T13:11:24.419Z"
    },
    "deletable": false,
    "editable": false,
    "nbgrader": {
     "cell_type": "code",
     "checksum": "d34f9e85780e6f2472463ba8cf5d6aaf",
     "grade": true,
     "grade_id": "cell-36a02ed893a4bb07",
     "locked": true,
     "points": 0,
     "schema_version": 3,
     "solution": false,
     "task": false
    }
   },
   "outputs": [],
   "source": [
    "# please leave this cell as it is\n"
   ]
  },
  {
   "cell_type": "markdown",
   "id": "21f48c3d-ec1f-4e20-bb2d-18516f88f81e",
   "metadata": {
    "deletable": false,
    "editable": false,
    "nbgrader": {
     "cell_type": "markdown",
     "checksum": "d9ce5bea76471abc364fce378c39630b",
     "grade": false,
     "grade_id": "cell-06958b98358b31a0",
     "locked": true,
     "schema_version": 3,
     "solution": false,
     "task": false
    },
    "tags": []
   },
   "source": [
    "**c)** Your goal now is to find the fit onto the training data that best generalizes to the validation data. **- (2 points)**\n",
    "\n",
    "For this:\n",
    "- iterate over the degree of the polynomial $p$,\n",
    "- find the parameter vector $\\boldsymbol{w}_p$ based on the training data $\\boldsymbol{x}_{training}$ and $\\boldsymbol{y}_{training}$,\n",
    "- compute the estimates $\\hat{\\boldsymbol{y}}$ using $\\boldsymbol{w}_p$ and $\\boldsymbol{x}_{validation}$, and\n",
    "- compare the estimates $\\hat{\\boldsymbol{y}}$ with $\\boldsymbol{y}_{validation}$ using the given error function."
   ]
  },
  {
   "cell_type": "code",
   "execution_count": null,
   "id": "19ee272a-7c78-45e2-b910-86fad7a19713",
   "metadata": {
    "ExecuteTime": {
     "end_time": "2024-10-24T15:11:41.362000+02:00",
     "start_time": "2024-10-24T13:11:24.419Z"
    },
    "deletable": false,
    "editable": false,
    "nbgrader": {
     "cell_type": "code",
     "checksum": "9c57c5de9980e54616faca00e463eea6",
     "grade": false,
     "grade_id": "cell-7d3a95206d66724b",
     "locked": true,
     "schema_version": 3,
     "solution": false,
     "task": false
    },
    "tags": []
   },
   "outputs": [],
   "source": [
    "function error_function(a, b)\n",
    "    \"\"\"Computes the error between the two input vectors.\"\"\"\n",
    "\n",
    "    @assert length(a) == length(b)\n",
    "    @assert ndims(a) == ndims(b) == 1\n",
    "    \n",
    "    N = length(a)\n",
    "    return sqrt(1/N * sum((a-b).^2))\n",
    "end"
   ]
  },
  {
   "cell_type": "markdown",
   "id": "6fb57aa7-60b3-4bd6-a289-77d7f42b8beb",
   "metadata": {
    "deletable": false,
    "editable": false,
    "nbgrader": {
     "cell_type": "markdown",
     "checksum": "6ed08ec44dcea769601b73f7ad72a854",
     "grade": false,
     "grade_id": "cell-46617abcd47b1f7b",
     "locked": true,
     "schema_version": 3,
     "solution": false,
     "task": false
    },
    "tags": []
   },
   "source": [
    "Find a polynomial model with **an error below $10$** according to the steps described above and report its degree in the variable $p_{sol}$ below. \n",
    "\n",
    "**Hint 1:** $p_{sol} \\in [0, 10]$\n",
    "\n",
    "**Hint 2:** Multiple degrees for the polynomial produce an error that is low enough. "
   ]
  },
  {
   "cell_type": "code",
   "execution_count": null,
   "id": "cb00bd60-3ee0-4774-9463-42e3a8c87fba",
   "metadata": {
    "ExecuteTime": {
     "end_time": "2024-10-24T15:11:41.559000+02:00",
     "start_time": "2024-10-24T13:11:24.420Z"
    },
    "deletable": false,
    "nbgrader": {
     "cell_type": "code",
     "checksum": "3fbda03e16b88a74dddf111b6ae6b6c3",
     "grade": false,
     "grade_id": "cell-de7a80003acab8b5",
     "locked": false,
     "schema_version": 3,
     "solution": true,
     "task": false
    },
    "tags": []
   },
   "outputs": [],
   "source": [
    "p_sol = NaN\n",
    "\n",
    "#--- YOUR CODE STARTS HERE ---#\n",
    "\n",
    "#--- YOUR CODE ENDS HERE ---#"
   ]
  },
  {
   "cell_type": "code",
   "execution_count": null,
   "id": "793a599f-1fd7-4693-ae01-1d69ae9629b4",
   "metadata": {
    "ExecuteTime": {
     "end_time": "2024-10-24T15:11:41.561000+02:00",
     "start_time": "2024-10-24T13:11:24.420Z"
    },
    "deletable": false,
    "editable": false,
    "nbgrader": {
     "cell_type": "code",
     "checksum": "9e5162454536b7e2f1acb76d8847d1be",
     "grade": true,
     "grade_id": "cell-fefbefb113ecb7c9",
     "locked": true,
     "points": 2,
     "schema_version": 3,
     "solution": false,
     "task": false
    },
    "tags": []
   },
   "outputs": [],
   "source": [
    "@assert isnan(p_sol) == false \"Your value for the p_final is not a number.\"\n",
    "@assert 0 <= p_sol <= 10\n",
    "\n",
    "# please leave this cell as it is\n"
   ]
  },
  {
   "cell_type": "markdown",
   "id": "6dca854b-64c7-45ab-b2b9-9178debe6f1d",
   "metadata": {
    "deletable": false,
    "editable": false,
    "nbgrader": {
     "cell_type": "markdown",
     "checksum": "6e5acf3049c5a18055140fda27a8154f",
     "grade": false,
     "grade_id": "cell-d120e5958a9f7150",
     "locked": true,
     "schema_version": 3,
     "solution": false,
     "task": false
    },
    "tags": []
   },
   "source": [
    "**For the interested (no extra points or credit):** Plot the estimates of the model, the training data and the validation data for each value of $p \\in [0, 10]$. Why is the highest degree of freedom not necessarily the best choice? What effect that you might know from the context of machine learning can be seen here?\n",
    "\n",
    "Please remove your plotting commands from the notebook before submission. Thank you!"
   ]
  },
  {
   "cell_type": "code",
   "execution_count": null,
   "id": "857081b1-b2fe-4a88-a606-ec11cec84154",
   "metadata": {},
   "outputs": [],
   "source": []
  }
 ],
 "metadata": {
  "kernelspec": {
   "display_name": "Julia 1.10.5",
   "language": "julia",
   "name": "julia-1.10"
  },
  "language_info": {
   "file_extension": ".jl",
   "mimetype": "application/julia",
   "name": "julia",
   "version": "1.10.5"
  }
 },
 "nbformat": 4,
 "nbformat_minor": 5
}
